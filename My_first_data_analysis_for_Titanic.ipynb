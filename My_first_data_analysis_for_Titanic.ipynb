{
  "metadata": {
    "kernelspec": {
      "language": "python",
      "display_name": "Python 3",
      "name": "python3"
    },
    "language_info": {
      "name": "python",
      "version": "3.10.14",
      "mimetype": "text/x-python",
      "codemirror_mode": {
        "name": "ipython",
        "version": 3
      },
      "pygments_lexer": "ipython3",
      "nbconvert_exporter": "python",
      "file_extension": ".py"
    },
    "kaggle": {
      "accelerator": "none",
      "dataSources": [
        {
          "sourceId": 3136,
          "databundleVersionId": 26502,
          "sourceType": "competition"
        }
      ],
      "dockerImageVersionId": 30786,
      "isInternetEnabled": true,
      "language": "python",
      "sourceType": "notebook",
      "isGpuEnabled": false
    },
    "colab": {
      "name": "My_first_data_analysis_for_Titanic",
      "provenance": [],
      "include_colab_link": true
    }
  },
  "nbformat_minor": 0,
  "nbformat": 4,
  "cells": [
    {
      "cell_type": "markdown",
      "metadata": {
        "id": "view-in-github",
        "colab_type": "text"
      },
      "source": [
        "<a href=\"https://colab.research.google.com/github/kyuna02/-/blob/main/My_first_data_analysis_for_Titanic.ipynb\" target=\"_parent\"><img src=\"https://colab.research.google.com/assets/colab-badge.svg\" alt=\"Open In Colab\"/></a>"
      ]
    },
    {
      "source": [
        "# IMPORTANT: SOME KAGGLE DATA SOURCES ARE PRIVATE\n",
        "# RUN THIS CELL IN ORDER TO IMPORT YOUR KAGGLE DATA SOURCES.\n",
        "import kagglehub\n",
        "kagglehub.login()\n"
      ],
      "metadata": {
        "id": "_uphwYB5lsuq"
      },
      "cell_type": "code",
      "outputs": [],
      "execution_count": null
    },
    {
      "source": [
        "# IMPORTANT: RUN THIS CELL IN ORDER TO IMPORT YOUR KAGGLE DATA SOURCES,\n",
        "# THEN FEEL FREE TO DELETE THIS CELL.\n",
        "# NOTE: THIS NOTEBOOK ENVIRONMENT DIFFERS FROM KAGGLE'S PYTHON\n",
        "# ENVIRONMENT SO THERE MAY BE MISSING LIBRARIES USED BY YOUR\n",
        "# NOTEBOOK.\n",
        "\n",
        "titanic_path = kagglehub.competition_download('titanic')\n",
        "\n",
        "print('Data source import complete.')\n"
      ],
      "metadata": {
        "id": "fNNoNbXwlsus"
      },
      "cell_type": "code",
      "outputs": [],
      "execution_count": null
    },
    {
      "cell_type": "markdown",
      "source": [],
      "metadata": {
        "id": "DW_Z-0zElsut"
      }
    },
    {
      "cell_type": "code",
      "source": [
        "# This Python 3 environment comes with many helpful analytics libraries installed\n",
        "# It is defined by the kaggle/python Docker image: https://github.com/kaggle/docker-python\n",
        "# For example, here's several helpful packages to load\n",
        "\n",
        "import numpy as np # linear algebra\n",
        "import pandas as pd # data processing, CSV file I/O (e.g. pd.read_csv)\n",
        "\n",
        "# Input data files are available in the read-only \"../input/\" directory\n",
        "# For example, running this (by clicking run or pressing Shift+Enter) will list all files under the input directory\n",
        "\n",
        "import os\n",
        "for dirname, _, filenames in os.walk('/kaggle/input'):\n",
        "    for filename in filenames:\n",
        "        print(os.path.join(dirname, filename))\n",
        "\n",
        "# You can write up to 20GB to the current directory (/kaggle/working/) that gets preserved as output when you create a version using \"Save & Run All\"\n",
        "# You can also write temporary files to /kaggle/temp/, but they won't be saved outside of the current session"
      ],
      "metadata": {
        "_uuid": "8f2839f25d086af736a60e9eeb907d3b93b6e0e5",
        "_cell_guid": "b1076dfc-b9ad-4769-8c92-a6c4dae69d19",
        "trusted": true,
        "execution": {
          "iopub.status.busy": "2024-11-19T10:24:47.203124Z",
          "iopub.execute_input": "2024-11-19T10:24:47.203505Z",
          "iopub.status.idle": "2024-11-19T10:24:47.214176Z",
          "shell.execute_reply.started": "2024-11-19T10:24:47.203461Z",
          "shell.execute_reply": "2024-11-19T10:24:47.212945Z"
        },
        "id": "AhDkQaKulsuu"
      },
      "outputs": [],
      "execution_count": null
    },
    {
      "cell_type": "code",
      "source": [
        "import numpy as np\n",
        "import pandas as pd\n",
        "import matplotlib.pyplot as plt\n",
        "import seaborn as sns\n",
        "\n",
        "plt.style.use('seaborn')\n",
        "sns.set_theme()\n",
        "sns.set(font_scale = 2.5)\n",
        "\n",
        "import missingno as msno\n",
        "\n",
        "import warnings\n",
        "warnings.filterwarnings('ignore')\n",
        "\n",
        "%matplotlib inline"
      ],
      "metadata": {
        "trusted": true,
        "execution": {
          "iopub.status.busy": "2024-11-19T10:24:47.215637Z",
          "iopub.execute_input": "2024-11-19T10:24:47.215987Z",
          "iopub.status.idle": "2024-11-19T10:24:47.226194Z",
          "shell.execute_reply.started": "2024-11-19T10:24:47.215955Z",
          "shell.execute_reply": "2024-11-19T10:24:47.225109Z"
        },
        "id": "7tnarnOjlsuu"
      },
      "outputs": [],
      "execution_count": null
    },
    {
      "cell_type": "code",
      "source": [
        "df_train = pd.read_csv('/kaggle/input/titanic/train.csv')\n",
        "df_test = pd.read_csv('/kaggle/input/titanic/test.csv')"
      ],
      "metadata": {
        "trusted": true,
        "execution": {
          "iopub.status.busy": "2024-11-19T10:24:47.227551Z",
          "iopub.execute_input": "2024-11-19T10:24:47.22787Z",
          "iopub.status.idle": "2024-11-19T10:24:47.247203Z",
          "shell.execute_reply.started": "2024-11-19T10:24:47.227841Z",
          "shell.execute_reply": "2024-11-19T10:24:47.24608Z"
        },
        "id": "r7iEn9mHlsuv"
      },
      "outputs": [],
      "execution_count": null
    },
    {
      "cell_type": "code",
      "source": [
        "df_train.head(10)"
      ],
      "metadata": {
        "trusted": true,
        "execution": {
          "iopub.status.busy": "2024-11-19T10:24:47.248884Z",
          "iopub.execute_input": "2024-11-19T10:24:47.249876Z",
          "iopub.status.idle": "2024-11-19T10:24:47.26788Z",
          "shell.execute_reply.started": "2024-11-19T10:24:47.249824Z",
          "shell.execute_reply": "2024-11-19T10:24:47.266517Z"
        },
        "id": "6RBBWbatlsuv"
      },
      "outputs": [],
      "execution_count": null
    },
    {
      "cell_type": "code",
      "source": [
        "df_train.describe()"
      ],
      "metadata": {
        "trusted": true,
        "execution": {
          "iopub.status.busy": "2024-11-19T10:24:47.269495Z",
          "iopub.execute_input": "2024-11-19T10:24:47.269861Z",
          "iopub.status.idle": "2024-11-19T10:24:47.300213Z",
          "shell.execute_reply.started": "2024-11-19T10:24:47.269825Z",
          "shell.execute_reply": "2024-11-19T10:24:47.299137Z"
        },
        "id": "9idAHKhglsuv"
      },
      "outputs": [],
      "execution_count": null
    },
    {
      "cell_type": "code",
      "source": [
        "df_test.describe()"
      ],
      "metadata": {
        "trusted": true,
        "execution": {
          "iopub.status.busy": "2024-11-19T10:24:47.301723Z",
          "iopub.execute_input": "2024-11-19T10:24:47.302196Z",
          "iopub.status.idle": "2024-11-19T10:24:47.330558Z",
          "shell.execute_reply.started": "2024-11-19T10:24:47.302149Z",
          "shell.execute_reply": "2024-11-19T10:24:47.329365Z"
        },
        "id": "mpjOYvcWlsuw"
      },
      "outputs": [],
      "execution_count": null
    },
    {
      "cell_type": "code",
      "source": [
        "for col in df_train.columns:\n",
        "    msg = 'colum: {:>10}\\t percent of nan value: {:.2f}%'.format(col, 100 * (df_train[col].isnull().sum() / df_train[col].shape[0]))\n",
        "    print(msg)"
      ],
      "metadata": {
        "trusted": true,
        "execution": {
          "iopub.status.busy": "2024-11-19T10:24:47.332078Z",
          "iopub.execute_input": "2024-11-19T10:24:47.333003Z",
          "iopub.status.idle": "2024-11-19T10:24:47.341928Z",
          "shell.execute_reply.started": "2024-11-19T10:24:47.332954Z",
          "shell.execute_reply": "2024-11-19T10:24:47.340751Z"
        },
        "id": "-_7U_ySOlsuw"
      },
      "outputs": [],
      "execution_count": null
    },
    {
      "cell_type": "code",
      "source": [
        "for col in df_test.columns:\n",
        "    msg = 'colum: {:>10}\\t percent of nan value: {:.2f}%'.format(col, 100 * (df_test[col].isnull().sum() / df_test[col].shape[0]))\n",
        "    print(msg)"
      ],
      "metadata": {
        "trusted": true,
        "execution": {
          "iopub.status.busy": "2024-11-19T10:24:47.355873Z",
          "iopub.execute_input": "2024-11-19T10:24:47.356381Z",
          "iopub.status.idle": "2024-11-19T10:24:47.365079Z",
          "shell.execute_reply.started": "2024-11-19T10:24:47.356341Z",
          "shell.execute_reply": "2024-11-19T10:24:47.363837Z"
        },
        "id": "MZkDN18Blsuw"
      },
      "outputs": [],
      "execution_count": null
    },
    {
      "cell_type": "code",
      "source": [
        "msno.matrix(df = df_train.iloc[:, :], figsize = (8, 8), color = (0.8, 0.5, 0.2))"
      ],
      "metadata": {
        "trusted": true,
        "execution": {
          "iopub.status.busy": "2024-11-19T10:24:47.366729Z",
          "iopub.execute_input": "2024-11-19T10:24:47.367234Z",
          "iopub.status.idle": "2024-11-19T10:24:47.739936Z",
          "shell.execute_reply.started": "2024-11-19T10:24:47.367183Z",
          "shell.execute_reply": "2024-11-19T10:24:47.738825Z"
        },
        "id": "ueA3EVyjlsuw"
      },
      "outputs": [],
      "execution_count": null
    },
    {
      "cell_type": "code",
      "source": [
        "msno.bar(df = df_train.iloc[:, :], figsize = (8, 8), color = (0.8, 0.5, 0.2))"
      ],
      "metadata": {
        "trusted": true,
        "execution": {
          "iopub.status.busy": "2024-11-19T10:24:47.741193Z",
          "iopub.execute_input": "2024-11-19T10:24:47.741605Z",
          "iopub.status.idle": "2024-11-19T10:24:48.681028Z",
          "shell.execute_reply.started": "2024-11-19T10:24:47.741561Z",
          "shell.execute_reply": "2024-11-19T10:24:48.67994Z"
        },
        "id": "g7bpwGfrlsuw"
      },
      "outputs": [],
      "execution_count": null
    },
    {
      "cell_type": "code",
      "source": [
        "msno.bar(df = df_test.iloc[:, :], figsize = (8, 8), color = (0.8, 0.5, 0.2))"
      ],
      "metadata": {
        "trusted": true,
        "execution": {
          "iopub.status.busy": "2024-11-19T10:24:48.682263Z",
          "iopub.execute_input": "2024-11-19T10:24:48.682704Z",
          "iopub.status.idle": "2024-11-19T10:24:49.573362Z",
          "shell.execute_reply.started": "2024-11-19T10:24:48.682655Z",
          "shell.execute_reply": "2024-11-19T10:24:49.572297Z"
        },
        "id": "Kj2wUOUllsuw"
      },
      "outputs": [],
      "execution_count": null
    },
    {
      "cell_type": "code",
      "source": [
        "f, ax = plt.subplots(1, 2, figsize=(18, 8))\n",
        "\n",
        "df_train['Survived'].value_counts().plot.pie(explode=[0,0.1], autopct='%1.1f%%', ax=ax[0], shadow=True)\n",
        "ax[0].set_title('Pie plot - Survived')\n",
        "ax[0].set_ylabel('')\n",
        "sns.countplot(x = 'Survived', data = df_train, ax=ax[1])\n",
        "ax[1].set_title('Count plot - Survived')\n",
        "\n",
        "plt.show()"
      ],
      "metadata": {
        "trusted": true,
        "execution": {
          "iopub.status.busy": "2024-11-19T10:24:49.574614Z",
          "iopub.execute_input": "2024-11-19T10:24:49.575058Z",
          "iopub.status.idle": "2024-11-19T10:24:49.935243Z",
          "shell.execute_reply.started": "2024-11-19T10:24:49.574993Z",
          "shell.execute_reply": "2024-11-19T10:24:49.934115Z"
        },
        "id": "E-lhzcWwlsuw"
      },
      "outputs": [],
      "execution_count": null
    },
    {
      "cell_type": "code",
      "source": [
        "df_train[['Pclass','Survived']].groupby(['Pclass'], as_index=True).count()"
      ],
      "metadata": {
        "trusted": true,
        "execution": {
          "iopub.status.busy": "2024-11-19T10:24:49.936581Z",
          "iopub.execute_input": "2024-11-19T10:24:49.936897Z",
          "iopub.status.idle": "2024-11-19T10:24:49.949247Z",
          "shell.execute_reply.started": "2024-11-19T10:24:49.936865Z",
          "shell.execute_reply": "2024-11-19T10:24:49.947949Z"
        },
        "id": "Kz9JcwyRlsux"
      },
      "outputs": [],
      "execution_count": null
    },
    {
      "cell_type": "code",
      "source": [
        "df_train[['Pclass','Survived']].groupby(['Pclass'], as_index=True).sum()"
      ],
      "metadata": {
        "trusted": true,
        "execution": {
          "iopub.status.busy": "2024-11-19T10:24:49.950839Z",
          "iopub.execute_input": "2024-11-19T10:24:49.951304Z",
          "iopub.status.idle": "2024-11-19T10:24:49.963886Z",
          "shell.execute_reply.started": "2024-11-19T10:24:49.951255Z",
          "shell.execute_reply": "2024-11-19T10:24:49.962864Z"
        },
        "id": "7_0-11yilsux"
      },
      "outputs": [],
      "execution_count": null
    },
    {
      "cell_type": "code",
      "source": [
        "pd.crosstab(df_train['Pclass'], df_train['Survived'],margins=True).style.background_gradient(cmap='summer_r')"
      ],
      "metadata": {
        "trusted": true,
        "execution": {
          "iopub.status.busy": "2024-11-19T10:24:49.965475Z",
          "iopub.execute_input": "2024-11-19T10:24:49.965933Z",
          "iopub.status.idle": "2024-11-19T10:24:50.007073Z",
          "shell.execute_reply.started": "2024-11-19T10:24:49.965889Z",
          "shell.execute_reply": "2024-11-19T10:24:50.005733Z"
        },
        "id": "_wAJ1bUClsux"
      },
      "outputs": [],
      "execution_count": null
    },
    {
      "cell_type": "code",
      "source": [
        "df_train[['Pclass', 'Survived']].groupby(['Pclass'], as_index=True).mean().sort_values(by='Survived', ascending=False).plot.bar()"
      ],
      "metadata": {
        "trusted": true,
        "execution": {
          "iopub.status.busy": "2024-11-19T10:24:50.008474Z",
          "iopub.execute_input": "2024-11-19T10:24:50.008926Z",
          "iopub.status.idle": "2024-11-19T10:24:50.266842Z",
          "shell.execute_reply.started": "2024-11-19T10:24:50.008876Z",
          "shell.execute_reply": "2024-11-19T10:24:50.265678Z"
        },
        "id": "UCaWG8xolsux"
      },
      "outputs": [],
      "execution_count": null
    },
    {
      "cell_type": "code",
      "source": [
        "y_position = 1.02\n",
        "f, ax = plt.subplots(1, 2, figsize=(18, 8))\n",
        "df_train['Pclass'].value_counts().plot.bar(color=['#CD7F32', '#FFDF00', '#D3D3D3'], ax=ax[0])\n",
        "ax[0].set_title('Number of Passengers By Pclass', y = y_position)\n",
        "ax[0].set_ylabel('Count')\n",
        "sns.countplot(x = 'Pclass', hue = 'Survived', data = df_train, ax=ax[1])\n",
        "ax[1].set_title('Pcalss: survived vs Dead', y = y_position)\n",
        "plt.show()"
      ],
      "metadata": {
        "trusted": true,
        "execution": {
          "iopub.status.busy": "2024-11-19T10:24:50.268434Z",
          "iopub.execute_input": "2024-11-19T10:24:50.268886Z",
          "iopub.status.idle": "2024-11-19T10:24:50.674978Z",
          "shell.execute_reply.started": "2024-11-19T10:24:50.268839Z",
          "shell.execute_reply": "2024-11-19T10:24:50.673541Z"
        },
        "id": "JjOAG3o4lsux"
      },
      "outputs": [],
      "execution_count": null
    },
    {
      "cell_type": "code",
      "source": [
        "f, ax = plt.subplots(1, 2, figsize=(18, 8))\n",
        "df_train[['Sex', 'Survived']].groupby(['Sex'], as_index=True).mean().plot.bar(ax=ax[0])\n",
        "ax[0].set_title('Survived vs Sex')\n",
        "sns.countplot(x = 'Sex', hue = 'Survived', data = df_train, ax=ax[1])\n",
        "ax[1].set_title('Sex: Survived vs Dead')\n",
        "plt.show()"
      ],
      "metadata": {
        "trusted": true,
        "execution": {
          "iopub.status.busy": "2024-11-19T10:24:50.676489Z",
          "iopub.execute_input": "2024-11-19T10:24:50.676831Z",
          "iopub.status.idle": "2024-11-19T10:24:51.346096Z",
          "shell.execute_reply.started": "2024-11-19T10:24:50.676796Z",
          "shell.execute_reply": "2024-11-19T10:24:51.344872Z"
        },
        "id": "OCau3hDElsux"
      },
      "outputs": [],
      "execution_count": null
    },
    {
      "cell_type": "code",
      "source": [
        "df_train[['Sex', 'Survived']].groupby(['Sex'], as_index=False).mean().sort_values(by='Survived', ascending=False)"
      ],
      "metadata": {
        "trusted": true,
        "execution": {
          "iopub.status.busy": "2024-11-19T10:24:51.347525Z",
          "iopub.execute_input": "2024-11-19T10:24:51.347905Z",
          "iopub.status.idle": "2024-11-19T10:24:51.362173Z",
          "shell.execute_reply.started": "2024-11-19T10:24:51.34787Z",
          "shell.execute_reply": "2024-11-19T10:24:51.361117Z"
        },
        "id": "IO652prJlsux"
      },
      "outputs": [],
      "execution_count": null
    },
    {
      "cell_type": "code",
      "source": [
        "pd.crosstab(df_train['Sex'], df_train['Survived'], margins=True).style.background_gradient(cmap='summer_r')"
      ],
      "metadata": {
        "trusted": true,
        "execution": {
          "iopub.status.busy": "2024-11-19T10:24:51.363725Z",
          "iopub.execute_input": "2024-11-19T10:24:51.364093Z",
          "iopub.status.idle": "2024-11-19T10:24:51.404858Z",
          "shell.execute_reply.started": "2024-11-19T10:24:51.364028Z",
          "shell.execute_reply": "2024-11-19T10:24:51.403711Z"
        },
        "id": "qIVh8OrQlsux"
      },
      "outputs": [],
      "execution_count": null
    },
    {
      "cell_type": "code",
      "source": [
        "sns.catplot(x = 'Pclass', y = 'Survived', hue = 'Sex', data = df_train, kind = 'point', height = 6, aspect = 1.5)"
      ],
      "metadata": {
        "trusted": true,
        "execution": {
          "iopub.status.busy": "2024-11-19T10:24:51.406322Z",
          "iopub.execute_input": "2024-11-19T10:24:51.406818Z",
          "iopub.status.idle": "2024-11-19T10:24:52.062795Z",
          "shell.execute_reply.started": "2024-11-19T10:24:51.406768Z",
          "shell.execute_reply": "2024-11-19T10:24:52.06165Z"
        },
        "id": "5tY6EppXlsux"
      },
      "outputs": [],
      "execution_count": null
    },
    {
      "cell_type": "code",
      "source": [
        "g = sns.catplot(x = 'Sex', y = 'Survived', col = 'Pclass', data = df_train,\n",
        " height = 8, aspect = 1, kind = 'point')\n",
        "g.set_titles('Pclass : {col_name}', fontsize = 1)\n",
        "plt.show()\n"
      ],
      "metadata": {
        "trusted": true,
        "execution": {
          "iopub.status.busy": "2024-11-19T10:24:52.064305Z",
          "iopub.execute_input": "2024-11-19T10:24:52.064739Z",
          "iopub.status.idle": "2024-11-19T10:24:53.174467Z",
          "shell.execute_reply.started": "2024-11-19T10:24:52.064692Z",
          "shell.execute_reply": "2024-11-19T10:24:53.173235Z"
        },
        "id": "epP54Q06lsux"
      },
      "outputs": [],
      "execution_count": null
    },
    {
      "cell_type": "code",
      "source": [],
      "metadata": {
        "trusted": true,
        "jupyter": {
          "source_hidden": true
        },
        "id": "yMUs8JBElsuy"
      },
      "outputs": [],
      "execution_count": null
    },
    {
      "cell_type": "code",
      "source": [
        "print('제일 나이 많은 탑승객 : {:.1f}Years'.format(df_train['Age'].max()))\n",
        "print('제일 어린 탑승객 : {:.1f}Years'.format(df_train['Age'].min()))\n",
        "print('탑승객 평균 나이 : {:.1f}Years'.format(df_train['Age'].mean()))"
      ],
      "metadata": {
        "trusted": true,
        "execution": {
          "iopub.status.busy": "2024-11-19T10:24:53.175943Z",
          "iopub.execute_input": "2024-11-19T10:24:53.176343Z",
          "iopub.status.idle": "2024-11-19T10:24:53.184218Z",
          "shell.execute_reply.started": "2024-11-19T10:24:53.176306Z",
          "shell.execute_reply": "2024-11-19T10:24:53.18285Z"
        },
        "id": "vSYYUfF0lsuy"
      },
      "outputs": [],
      "execution_count": null
    },
    {
      "cell_type": "code",
      "source": [
        "fig, ax = plt.subplots(1, 1, figsize=(9, 5))\n",
        "sns.kdeplot(df_train[df_train['Survived']==1]['Age'], ax=ax)\n",
        "sns.kdeplot(df_train[df_train['Survived']==0]['Age'], ax=ax)\n",
        "plt.legend(['Survived == 1', 'Survived == 0'])\n",
        "plt.show()"
      ],
      "metadata": {
        "trusted": true,
        "execution": {
          "iopub.status.busy": "2024-11-19T10:24:53.185779Z",
          "iopub.execute_input": "2024-11-19T10:24:53.186238Z",
          "iopub.status.idle": "2024-11-19T10:24:53.586148Z",
          "shell.execute_reply.started": "2024-11-19T10:24:53.186201Z",
          "shell.execute_reply": "2024-11-19T10:24:53.584966Z"
        },
        "id": "aSPAz4Tflsuy"
      },
      "outputs": [],
      "execution_count": null
    },
    {
      "cell_type": "code",
      "source": [
        "plt.figure(figsize=(8, 6))\n",
        "df_train['Age'][df_train['Pclass'] == 1].plot(kind='kde')\n",
        "df_train['Age'][df_train['Pclass'] == 2].plot(kind='kde')\n",
        "df_train['Age'][df_train['Pclass'] == 3].plot(kind='kde')\n",
        "\n",
        "plt.xlabel('Age')\n",
        "plt.title('Age Distribution within classes')\n",
        "plt.legend(['1st Class', '2st Class', '3st Class'])"
      ],
      "metadata": {
        "trusted": true,
        "execution": {
          "iopub.status.busy": "2024-11-19T10:24:53.587771Z",
          "iopub.execute_input": "2024-11-19T10:24:53.588175Z",
          "iopub.status.idle": "2024-11-19T10:24:54.065832Z",
          "shell.execute_reply.started": "2024-11-19T10:24:53.588135Z",
          "shell.execute_reply": "2024-11-19T10:24:54.064627Z"
        },
        "id": "vQnUJOoslsuy"
      },
      "outputs": [],
      "execution_count": null
    },
    {
      "cell_type": "code",
      "source": [
        "cummulate_survival_ratio = []\n",
        "for i in range(1, 80):\n",
        "    cummulate_survival_ratio.append(df_train[df_train['Age'] < i]['Survived'].sum() / len(df_train[df_train['Age'] < i]['Survived']))\n",
        "\n",
        "plt.figure(figsize=(7, 7))\n",
        "plt.plot(cummulate_survival_ratio)\n",
        "plt.title('Survived rate change depending on range of Age',  y = 1.02)\n",
        "plt.ylabel('Survived rate')\n",
        "plt.xlabel('Range of Age(0~x)')\n",
        "plt.show()"
      ],
      "metadata": {
        "trusted": true,
        "execution": {
          "iopub.status.busy": "2024-11-19T10:24:54.067444Z",
          "iopub.execute_input": "2024-11-19T10:24:54.067804Z",
          "iopub.status.idle": "2024-11-19T10:24:54.399562Z",
          "shell.execute_reply.started": "2024-11-19T10:24:54.067771Z",
          "shell.execute_reply": "2024-11-19T10:24:54.39843Z"
        },
        "id": "X5io3p97lsuy"
      },
      "outputs": [],
      "execution_count": null
    },
    {
      "cell_type": "code",
      "source": [
        "f, ax = plt.subplots(1, 2, figsize = (18, 8))\n",
        "sns.violinplot(x = 'Pclass', y = 'Age', hue = 'Survived', data = df_train, scale = 'count', split = True, ax = ax[0])\n",
        "ax[0].set_title('Pclass and Age vs Survived')\n",
        "ax[0].set_yticks(range(0, 110, 10))\n",
        "sns.violinplot(x = 'Sex', y = 'Age', hue = 'Survived', data = df_train, scale = 'count', split = True, ax = ax[1])\n",
        "ax[1].set_title('Sex and Age vs Survived')\n",
        "ax[1].set_yticks(range(0, 110, 10))\n",
        "plt.show()\n"
      ],
      "metadata": {
        "trusted": true,
        "execution": {
          "iopub.status.busy": "2024-11-19T10:24:54.400923Z",
          "iopub.execute_input": "2024-11-19T10:24:54.401312Z",
          "iopub.status.idle": "2024-11-19T10:24:55.083146Z",
          "shell.execute_reply.started": "2024-11-19T10:24:54.401275Z",
          "shell.execute_reply": "2024-11-19T10:24:55.081953Z"
        },
        "id": "NB-tUhlElsuy"
      },
      "outputs": [],
      "execution_count": null
    },
    {
      "cell_type": "code",
      "source": [
        "f, ax = plt.subplots(1, 1, figsize=(7, 7))\n",
        "df_train[['Embarked', 'Survived']].groupby(['Embarked'], as_index = True).mean().sort_values(by = 'Survived', ascending = False).plot.bar(ax=ax)"
      ],
      "metadata": {
        "trusted": true,
        "execution": {
          "iopub.status.busy": "2024-11-19T10:24:55.084548Z",
          "iopub.execute_input": "2024-11-19T10:24:55.084941Z",
          "iopub.status.idle": "2024-11-19T10:24:55.36526Z",
          "shell.execute_reply.started": "2024-11-19T10:24:55.084906Z",
          "shell.execute_reply": "2024-11-19T10:24:55.36414Z"
        },
        "id": "JmQHZCbilsuy"
      },
      "outputs": [],
      "execution_count": null
    },
    {
      "cell_type": "code",
      "source": [
        "f, ax = plt.subplots(2, 2, figsize=(20, 15))\n",
        "sns.countplot(x = 'Embarked', data = df_train, ax = ax[0, 0])\n",
        "ax[0, 0].set_title('(1) No. of Passengers Boraded')\n",
        "sns.countplot(x = 'Embarked', hue = 'Sex', data = df_train, ax = ax[0, 1])\n",
        "ax[0, 1].set_title('(2) Male-Female Split for Embarked')\n",
        "sns.countplot(x = 'Embarked', hue = 'Survived', data = df_train, ax = ax[1, 0])\n",
        "ax[1, 0].set_title('(3) Embarked vs Survived')\n",
        "sns.countplot(x = 'Embarked', hue = 'Pclass', data = df_train, ax = ax[1, 1])\n",
        "ax[1, 1].set_title('(4) Embarked vs Pclass')\n",
        "plt.subplots_adjust(wspace = 0.2, hspace = 0.5)\n",
        "plt.show()"
      ],
      "metadata": {
        "trusted": true,
        "execution": {
          "iopub.status.busy": "2024-11-19T10:24:55.366871Z",
          "iopub.execute_input": "2024-11-19T10:24:55.367517Z",
          "iopub.status.idle": "2024-11-19T10:24:56.31764Z",
          "shell.execute_reply.started": "2024-11-19T10:24:55.367463Z",
          "shell.execute_reply": "2024-11-19T10:24:56.316117Z"
        },
        "id": "58SQ5gF8lsuz"
      },
      "outputs": [],
      "execution_count": null
    },
    {
      "cell_type": "code",
      "source": [
        "df_train['FamilySize'] = df_train['SibSp'] + df_train['Parch'] + 1\n",
        "df_test['FamilySize'] = df_test['SibSp'] + df_train['Parch'] + 1"
      ],
      "metadata": {
        "trusted": true,
        "execution": {
          "iopub.status.busy": "2024-11-19T10:24:56.31927Z",
          "iopub.execute_input": "2024-11-19T10:24:56.319642Z",
          "iopub.status.idle": "2024-11-19T10:24:56.329156Z",
          "shell.execute_reply.started": "2024-11-19T10:24:56.319596Z",
          "shell.execute_reply": "2024-11-19T10:24:56.327667Z"
        },
        "id": "KcMiWq6Klsuz"
      },
      "outputs": [],
      "execution_count": null
    },
    {
      "cell_type": "code",
      "source": [
        "print(\"Maximum size of Family: \", df_train['FamilySize'].max())\n",
        "print(\"Minimum size of Family: \", df_train['FamilySize'].min())"
      ],
      "metadata": {
        "trusted": true,
        "execution": {
          "iopub.status.busy": "2024-11-19T10:24:56.33054Z",
          "iopub.execute_input": "2024-11-19T10:24:56.330885Z",
          "iopub.status.idle": "2024-11-19T10:24:56.344747Z",
          "shell.execute_reply.started": "2024-11-19T10:24:56.33085Z",
          "shell.execute_reply": "2024-11-19T10:24:56.343345Z"
        },
        "id": "G7Y0OI2Plsuz"
      },
      "outputs": [],
      "execution_count": null
    },
    {
      "cell_type": "code",
      "source": [
        "f, ax = plt.subplots(1, 3, figsize=(40, 10))\n",
        "sns.countplot(x = 'FamilySize', data = df_train, ax = ax[0])\n",
        "ax[0].set_title('(1) No. of Passengers Boarded', y = 1.02)\n",
        "\n",
        "sns.countplot(x = 'FamilySize', hue = 'Survived', data = df_train, ax = ax[1])\n",
        "ax[1].set_title('(2) Survived countplot depending on Familysize', y = 1.02)\n",
        "\n",
        "df_train[['FamilySize', 'Survived']].groupby(['FamilySize'], as_index=True).mean().sort_values(by = 'Survived', ascending = False).plot.bar(ax=ax[2])\n",
        "ax[2].set_title('(3) Survived rate depending on FamilySize', y = 1.02)\n",
        "\n",
        "plt.subplots_adjust(wspace = 0.2, hspace = 0.5)\n",
        "plt.show()"
      ],
      "metadata": {
        "trusted": true,
        "execution": {
          "iopub.status.busy": "2024-11-19T10:24:56.346478Z",
          "iopub.execute_input": "2024-11-19T10:24:56.347059Z",
          "iopub.status.idle": "2024-11-19T10:24:57.111234Z",
          "shell.execute_reply.started": "2024-11-19T10:24:56.346984Z",
          "shell.execute_reply": "2024-11-19T10:24:57.110101Z"
        },
        "id": "yWsVtHnPlsuz"
      },
      "outputs": [],
      "execution_count": null
    },
    {
      "cell_type": "code",
      "source": [
        "fig, ax = plt.subplots(1, 1, figsize=(8, 8))\n",
        "g = sns.distplot(df_train['Fare'], color = 'b', label = 'Skewness : {:.2f}'.format(df_train['Fare'].skew()), ax = ax)\n",
        "g = g.legend(loc = 'best')"
      ],
      "metadata": {
        "trusted": true,
        "execution": {
          "iopub.status.busy": "2024-11-19T10:24:57.112972Z",
          "iopub.execute_input": "2024-11-19T10:24:57.113517Z",
          "iopub.status.idle": "2024-11-19T10:24:57.575165Z",
          "shell.execute_reply.started": "2024-11-19T10:24:57.113458Z",
          "shell.execute_reply": "2024-11-19T10:24:57.574028Z"
        },
        "id": "qDn4-xbFlsuz"
      },
      "outputs": [],
      "execution_count": null
    },
    {
      "cell_type": "code",
      "source": [
        "df_test.loc[df_test.Fare.isnull(), 'Fare'] = df_test['Fare'].mean()\n",
        "\n",
        "df_train['Fare'] = df_train['Fare'].map(lambda i: np.log(i) if i > 0 else 0)\n",
        "df_test['Fare'] = df_test['Fare'].map(lambda i: np.log(i) if i > 0 else 0)"
      ],
      "metadata": {
        "trusted": true,
        "execution": {
          "iopub.status.busy": "2024-11-19T10:24:57.576447Z",
          "iopub.execute_input": "2024-11-19T10:24:57.576782Z",
          "iopub.status.idle": "2024-11-19T10:24:57.587733Z",
          "shell.execute_reply.started": "2024-11-19T10:24:57.57675Z",
          "shell.execute_reply": "2024-11-19T10:24:57.586496Z"
        },
        "id": "qLXAHKMolsuz"
      },
      "outputs": [],
      "execution_count": null
    },
    {
      "cell_type": "code",
      "source": [
        "fig, ax = plt.subplots(1, 1, figsize = (8, 8))\n",
        "g = sns.distplot(df_train['Fare'], color = 'b', label = 'Skewness : {:.2f}'.format(df_train['Fare'].skew()), ax = ax)\n",
        "g = g.legend(loc = 'best')"
      ],
      "metadata": {
        "trusted": true,
        "execution": {
          "iopub.status.busy": "2024-11-19T10:24:57.589372Z",
          "iopub.execute_input": "2024-11-19T10:24:57.589827Z",
          "iopub.status.idle": "2024-11-19T10:24:58.215619Z",
          "shell.execute_reply.started": "2024-11-19T10:24:57.589777Z",
          "shell.execute_reply": "2024-11-19T10:24:58.214438Z"
        },
        "id": "epdb3F-wlsuz"
      },
      "outputs": [],
      "execution_count": null
    },
    {
      "cell_type": "code",
      "source": [
        "df_train.head()"
      ],
      "metadata": {
        "trusted": true,
        "execution": {
          "iopub.status.busy": "2024-11-19T10:24:58.216967Z",
          "iopub.execute_input": "2024-11-19T10:24:58.217354Z",
          "iopub.status.idle": "2024-11-19T10:24:58.232942Z",
          "shell.execute_reply.started": "2024-11-19T10:24:58.217321Z",
          "shell.execute_reply": "2024-11-19T10:24:58.231706Z"
        },
        "id": "WX17EtSulsu3"
      },
      "outputs": [],
      "execution_count": null
    },
    {
      "cell_type": "code",
      "source": [
        "df_train['Ticket'].value_counts()"
      ],
      "metadata": {
        "trusted": true,
        "execution": {
          "iopub.status.busy": "2024-11-19T10:24:58.234391Z",
          "iopub.execute_input": "2024-11-19T10:24:58.234738Z",
          "iopub.status.idle": "2024-11-19T10:24:58.247336Z",
          "shell.execute_reply.started": "2024-11-19T10:24:58.2347Z",
          "shell.execute_reply": "2024-11-19T10:24:58.246265Z"
        },
        "id": "QDvtVzIBlsu3"
      },
      "outputs": [],
      "execution_count": null
    },
    {
      "cell_type": "code",
      "source": [
        "df_train['Initial'] = df_train.Name.str.extract('([A-Za-z]+)\\.')\n",
        "\n",
        "df_test['Initial'] = df_test.Name.str.extract('([A-Za-z]+)\\.')"
      ],
      "metadata": {
        "trusted": true,
        "execution": {
          "iopub.status.busy": "2024-11-19T10:24:58.248613Z",
          "iopub.execute_input": "2024-11-19T10:24:58.248998Z",
          "iopub.status.idle": "2024-11-19T10:24:58.262999Z",
          "shell.execute_reply.started": "2024-11-19T10:24:58.248965Z",
          "shell.execute_reply": "2024-11-19T10:24:58.261882Z"
        },
        "id": "GaF3_kiUlsu3"
      },
      "outputs": [],
      "execution_count": null
    },
    {
      "cell_type": "code",
      "source": [
        "pd.crosstab(df_train['Initial'], df_train['Sex']).T.style.background_gradient(cmap='summer_r')"
      ],
      "metadata": {
        "trusted": true,
        "execution": {
          "iopub.status.busy": "2024-11-19T10:24:58.264613Z",
          "iopub.execute_input": "2024-11-19T10:24:58.26498Z",
          "iopub.status.idle": "2024-11-19T10:24:58.3111Z",
          "shell.execute_reply.started": "2024-11-19T10:24:58.264947Z",
          "shell.execute_reply": "2024-11-19T10:24:58.310008Z"
        },
        "id": "IVi7szD7lsu3"
      },
      "outputs": [],
      "execution_count": null
    },
    {
      "cell_type": "code",
      "source": [
        "df_train['Initial'].replace(['Mlle','Mme','Ms','Dr','Major','Lady','Countess','Jonkheer','Col','Rev','Capt','Sir','Don', 'Dona'],\n",
        "                        ['Miss','Miss','Miss','Mr','Mr','Mrs','Mrs','Other','Other','Other','Mr','Mr','Mr', 'Mr'],inplace=True)\n",
        "\n",
        "df_test['Initial'].replace(['Mlle','Mme','Ms','Dr','Major','Lady','Countess','Jonkheer','Col','Rev','Capt','Sir','Don', 'Dona'],\n",
        "                        ['Miss','Miss','Miss','Mr','Mr','Mrs','Mrs','Other','Other','Other','Mr','Mr','Mr', 'Mr'],inplace=True)"
      ],
      "metadata": {
        "trusted": true,
        "execution": {
          "iopub.status.busy": "2024-11-19T10:24:58.31263Z",
          "iopub.execute_input": "2024-11-19T10:24:58.313102Z",
          "iopub.status.idle": "2024-11-19T10:24:58.325774Z",
          "shell.execute_reply.started": "2024-11-19T10:24:58.313031Z",
          "shell.execute_reply": "2024-11-19T10:24:58.324739Z"
        },
        "id": "xsejMz23lsu3"
      },
      "outputs": [],
      "execution_count": null
    },
    {
      "cell_type": "code",
      "source": [
        "df_train['Initial']"
      ],
      "metadata": {
        "trusted": true,
        "execution": {
          "iopub.status.busy": "2024-11-19T10:24:58.327095Z",
          "iopub.execute_input": "2024-11-19T10:24:58.327427Z",
          "iopub.status.idle": "2024-11-19T10:24:58.34346Z",
          "shell.execute_reply.started": "2024-11-19T10:24:58.327396Z",
          "shell.execute_reply": "2024-11-19T10:24:58.34238Z"
        },
        "id": "T4wj5Ytclsu3"
      },
      "outputs": [],
      "execution_count": null
    },
    {
      "cell_type": "code",
      "source": [
        "df_train.groupby('Initial').mean(numeric_only = True)"
      ],
      "metadata": {
        "trusted": true,
        "execution": {
          "iopub.status.busy": "2024-11-19T10:24:58.344838Z",
          "iopub.execute_input": "2024-11-19T10:24:58.345224Z",
          "iopub.status.idle": "2024-11-19T10:24:58.366711Z",
          "shell.execute_reply.started": "2024-11-19T10:24:58.345173Z",
          "shell.execute_reply": "2024-11-19T10:24:58.365585Z"
        },
        "id": "YvJ72_4llsu3"
      },
      "outputs": [],
      "execution_count": null
    },
    {
      "cell_type": "code",
      "source": [
        "df_train.groupby('Initial')['Survived'].mean().plot.bar()"
      ],
      "metadata": {
        "trusted": true,
        "execution": {
          "iopub.status.busy": "2024-11-19T10:24:58.368165Z",
          "iopub.execute_input": "2024-11-19T10:24:58.36857Z",
          "iopub.status.idle": "2024-11-19T10:24:58.649427Z",
          "shell.execute_reply.started": "2024-11-19T10:24:58.368533Z",
          "shell.execute_reply": "2024-11-19T10:24:58.64829Z"
        },
        "id": "YiKOzwLSlsu3"
      },
      "outputs": [],
      "execution_count": null
    },
    {
      "cell_type": "code",
      "source": [
        "df_train.loc[(df_train.Age.isnull())&(df_train.Initial=='Mr'),'Age'] = 33\n",
        "df_train.loc[(df_train.Age.isnull())&(df_train.Initial=='Mrs'),'Age'] = 36\n",
        "df_train.loc[(df_train.Age.isnull())&(df_train.Initial=='Master'),'Age'] = 5\n",
        "df_train.loc[(df_train.Age.isnull())&(df_train.Initial=='Miss'),'Age'] = 22\n",
        "df_train.loc[(df_train.Age.isnull())&(df_train.Initial=='Other'),'Age'] = 46\n",
        "\n",
        "df_test.loc[(df_test.Age.isnull())&(df_test.Initial=='Mr'),'Age'] = 33\n",
        "df_test.loc[(df_test.Age.isnull())&(df_test.Initial=='Mrs'),'Age'] = 36\n",
        "df_test.loc[(df_test.Age.isnull())&(df_test.Initial=='Master'),'Age'] = 5\n",
        "df_test.loc[(df_test.Age.isnull())&(df_test.Initial=='Miss'),'Age'] = 22\n",
        "df_test.loc[(df_test.Age.isnull())&(df_test.Initial=='Other'),'Age'] = 46"
      ],
      "metadata": {
        "trusted": true,
        "execution": {
          "iopub.status.busy": "2024-11-19T10:24:58.650872Z",
          "iopub.execute_input": "2024-11-19T10:24:58.65123Z",
          "iopub.status.idle": "2024-11-19T10:24:58.670482Z",
          "shell.execute_reply.started": "2024-11-19T10:24:58.651197Z",
          "shell.execute_reply": "2024-11-19T10:24:58.66903Z"
        },
        "id": "rV9KG25vlsu3"
      },
      "outputs": [],
      "execution_count": null
    },
    {
      "cell_type": "code",
      "source": [
        "print('Embarked has', sum(df_train['Embarked'].isnull()), ' Null values')"
      ],
      "metadata": {
        "trusted": true,
        "execution": {
          "iopub.status.busy": "2024-11-19T10:24:58.672136Z",
          "iopub.execute_input": "2024-11-19T10:24:58.672547Z",
          "iopub.status.idle": "2024-11-19T10:24:58.68369Z",
          "shell.execute_reply.started": "2024-11-19T10:24:58.672507Z",
          "shell.execute_reply": "2024-11-19T10:24:58.682659Z"
        },
        "id": "hz2QlHgmlsu4"
      },
      "outputs": [],
      "execution_count": null
    },
    {
      "cell_type": "code",
      "source": [
        "df_train['Embarked'].fillna('S', inplace = True)"
      ],
      "metadata": {
        "trusted": true,
        "execution": {
          "iopub.status.busy": "2024-11-19T10:24:58.684988Z",
          "iopub.execute_input": "2024-11-19T10:24:58.685377Z",
          "iopub.status.idle": "2024-11-19T10:24:58.693912Z",
          "shell.execute_reply.started": "2024-11-19T10:24:58.685344Z",
          "shell.execute_reply": "2024-11-19T10:24:58.692904Z"
        },
        "id": "n7vRrmcQlsu4"
      },
      "outputs": [],
      "execution_count": null
    },
    {
      "cell_type": "code",
      "source": [
        "df_train['Age_cat'] = 0\n",
        "df_train.loc[df_train['Age'] < 10, 'Age_cat'] = 0\n",
        "df_train.loc[(10 <= df_train['Age']) & (df_train['Age'] < 20), 'Age_cat'] = 1\n",
        "df_train.loc[(20 <= df_train['Age']) & (df_train['Age'] < 30), 'Age_cat'] = 2\n",
        "df_train.loc[(30 <= df_train['Age']) & (df_train['Age'] < 40), 'Age_cat'] = 3\n",
        "df_train.loc[(40 <= df_train['Age']) & (df_train['Age'] < 50), 'Age_cat'] = 4\n",
        "df_train.loc[(50 <= df_train['Age']) & (df_train['Age'] < 60), 'Age_cat'] = 5\n",
        "df_train.loc[(60 <= df_train['Age']) & (df_train['Age'] < 70), 'Age_cat'] = 6\n",
        "df_train.loc[70 <= df_train['Age'], 'Age_cat'] = 7\n",
        "\n",
        "df_test['Age_cat'] = 0\n",
        "df_test.loc[df_test['Age'] < 10, 'Age_cat'] = 0\n",
        "df_test.loc[(10 <= df_test['Age']) & (df_test['Age'] < 20), 'Age_cat'] = 1\n",
        "df_test.loc[(20 <= df_test['Age']) & (df_test['Age'] < 30), 'Age_cat'] = 2\n",
        "df_test.loc[(30 <= df_test['Age']) & (df_test['Age'] < 40), 'Age_cat'] = 3\n",
        "df_test.loc[(40 <= df_test['Age']) & (df_test['Age'] < 50), 'Age_cat'] = 4\n",
        "df_test.loc[(50 <= df_test['Age']) & (df_test['Age'] < 60), 'Age_cat'] = 5\n",
        "df_test.loc[(60 <= df_test['Age']) & (df_test['Age'] < 70), 'Age_cat'] = 6\n",
        "df_test.loc[70 <= df_test['Age'], 'Age_cat'] = 7"
      ],
      "metadata": {
        "trusted": true,
        "execution": {
          "iopub.status.busy": "2024-11-19T10:24:58.695227Z",
          "iopub.execute_input": "2024-11-19T10:24:58.695954Z",
          "iopub.status.idle": "2024-11-19T10:24:58.720872Z",
          "shell.execute_reply.started": "2024-11-19T10:24:58.695918Z",
          "shell.execute_reply": "2024-11-19T10:24:58.719751Z"
        },
        "id": "CNcpMypvlsu4"
      },
      "outputs": [],
      "execution_count": null
    },
    {
      "cell_type": "code",
      "source": [
        "def category_age(x):\n",
        "    if x < 10:\n",
        "        return 0\n",
        "    elif x < 20:\n",
        "        return 1\n",
        "    elif x < 30:\n",
        "        return 2\n",
        "    elif x < 40:\n",
        "        return 3\n",
        "    elif x < 50:\n",
        "        return 4\n",
        "    elif x < 60:\n",
        "        return 5\n",
        "    elif x < 70:\n",
        "        return 6\n",
        "    else:\n",
        "        return 7\n",
        "\n",
        "df_train['Age_cat_2'] = df_train['Age'].apply(category_age)"
      ],
      "metadata": {
        "trusted": true,
        "execution": {
          "iopub.status.busy": "2024-11-19T10:24:58.722241Z",
          "iopub.execute_input": "2024-11-19T10:24:58.722744Z",
          "iopub.status.idle": "2024-11-19T10:24:58.736475Z",
          "shell.execute_reply.started": "2024-11-19T10:24:58.722707Z",
          "shell.execute_reply": "2024-11-19T10:24:58.735293Z"
        },
        "id": "ESgpVVlolsu4"
      },
      "outputs": [],
      "execution_count": null
    },
    {
      "cell_type": "code",
      "source": [
        "print('1번 방법, 2번 방법 둘 다 같은 결과를 내면 True 줘야함 -> ', (df_train['Age_cat'] == df_train['Age_cat_2']).all())"
      ],
      "metadata": {
        "trusted": true,
        "execution": {
          "iopub.status.busy": "2024-11-19T10:24:58.738248Z",
          "iopub.execute_input": "2024-11-19T10:24:58.739023Z",
          "iopub.status.idle": "2024-11-19T10:24:58.750004Z",
          "shell.execute_reply.started": "2024-11-19T10:24:58.738983Z",
          "shell.execute_reply": "2024-11-19T10:24:58.748954Z"
        },
        "id": "ufahkD1Dlsu4"
      },
      "outputs": [],
      "execution_count": null
    },
    {
      "cell_type": "markdown",
      "source": [],
      "metadata": {
        "id": "Ucv-ds0olsu4"
      }
    },
    {
      "cell_type": "code",
      "source": [
        "df_train.drop(['Age', 'Age_cat_2'], axis = 1, inplace = True)\n",
        "df_test.drop(['Age'], axis = 1, inplace = True)"
      ],
      "metadata": {
        "trusted": true,
        "execution": {
          "iopub.status.busy": "2024-11-19T10:24:58.751413Z",
          "iopub.execute_input": "2024-11-19T10:24:58.75187Z",
          "iopub.status.idle": "2024-11-19T10:24:58.768289Z",
          "shell.execute_reply.started": "2024-11-19T10:24:58.75182Z",
          "shell.execute_reply": "2024-11-19T10:24:58.767135Z"
        },
        "id": "NiyIxRz0lsu4"
      },
      "outputs": [],
      "execution_count": null
    },
    {
      "cell_type": "code",
      "source": [
        "df_train['Initial'] = df_train['Initial'].map({'Master':0, 'Miss':1, 'Mr':2, 'Mrs':3, 'Other':4})\n",
        "df_test['Initial'] = df_test['Initial'].map({'Master':0, 'Miss':1, 'Mr':2, 'Mrs':3, 'Other':4})"
      ],
      "metadata": {
        "trusted": true,
        "execution": {
          "iopub.status.busy": "2024-11-19T10:24:58.769898Z",
          "iopub.execute_input": "2024-11-19T10:24:58.770261Z",
          "iopub.status.idle": "2024-11-19T10:24:58.785417Z",
          "shell.execute_reply.started": "2024-11-19T10:24:58.770227Z",
          "shell.execute_reply": "2024-11-19T10:24:58.784109Z"
        },
        "id": "jcKbOZoblsu5"
      },
      "outputs": [],
      "execution_count": null
    },
    {
      "cell_type": "code",
      "source": [
        "df_train['Embarked'].unique()"
      ],
      "metadata": {
        "trusted": true,
        "execution": {
          "iopub.status.busy": "2024-11-19T10:24:58.786863Z",
          "iopub.execute_input": "2024-11-19T10:24:58.787444Z",
          "iopub.status.idle": "2024-11-19T10:24:58.798694Z",
          "shell.execute_reply.started": "2024-11-19T10:24:58.787394Z",
          "shell.execute_reply": "2024-11-19T10:24:58.797629Z"
        },
        "id": "kFtY5OMMlsu5"
      },
      "outputs": [],
      "execution_count": null
    },
    {
      "cell_type": "code",
      "source": [
        "df_train['Embarked'].value_counts()"
      ],
      "metadata": {
        "trusted": true,
        "execution": {
          "iopub.status.busy": "2024-11-19T10:24:58.800022Z",
          "iopub.execute_input": "2024-11-19T10:24:58.800386Z",
          "iopub.status.idle": "2024-11-19T10:24:58.81173Z",
          "shell.execute_reply.started": "2024-11-19T10:24:58.800351Z",
          "shell.execute_reply": "2024-11-19T10:24:58.810418Z"
        },
        "id": "3cvMUCORlsu5"
      },
      "outputs": [],
      "execution_count": null
    },
    {
      "cell_type": "code",
      "source": [
        "df_train['Embarked'] = df_train['Embarked'].map({'C':0, 'Q':1, 'S':2})\n",
        "df_test['Embarked'] = df_test['Embarked'].map({'C':0, 'Q':1, 'S':2})"
      ],
      "metadata": {
        "trusted": true,
        "execution": {
          "iopub.status.busy": "2024-11-19T10:24:58.812883Z",
          "iopub.execute_input": "2024-11-19T10:24:58.813225Z",
          "iopub.status.idle": "2024-11-19T10:24:58.832503Z",
          "shell.execute_reply.started": "2024-11-19T10:24:58.813191Z",
          "shell.execute_reply": "2024-11-19T10:24:58.831241Z"
        },
        "id": "FP4_qXPxlsu5"
      },
      "outputs": [],
      "execution_count": null
    },
    {
      "cell_type": "code",
      "source": [
        "df_train['Embarked'].isnull().any()"
      ],
      "metadata": {
        "trusted": true,
        "execution": {
          "iopub.status.busy": "2024-11-19T10:24:58.833975Z",
          "iopub.execute_input": "2024-11-19T10:24:58.83458Z",
          "iopub.status.idle": "2024-11-19T10:24:58.847222Z",
          "shell.execute_reply.started": "2024-11-19T10:24:58.834516Z",
          "shell.execute_reply": "2024-11-19T10:24:58.845873Z"
        },
        "id": "wOpmcd0Wlsu5"
      },
      "outputs": [],
      "execution_count": null
    },
    {
      "cell_type": "code",
      "source": [
        "df_train['Sex'] = df_train['Sex'].map({'female':0, 'male':1})\n",
        "df_test['Sex'] = df_test['Sex'].map({'female':0, 'male':1})"
      ],
      "metadata": {
        "trusted": true,
        "execution": {
          "iopub.status.busy": "2024-11-19T10:24:58.848776Z",
          "iopub.execute_input": "2024-11-19T10:24:58.849201Z",
          "iopub.status.idle": "2024-11-19T10:24:58.857761Z",
          "shell.execute_reply.started": "2024-11-19T10:24:58.849166Z",
          "shell.execute_reply": "2024-11-19T10:24:58.856744Z"
        },
        "id": "umGwy9JClsu5"
      },
      "outputs": [],
      "execution_count": null
    },
    {
      "cell_type": "code",
      "source": [
        "heatmap_data = df_train[['Survived', 'Pclass', 'Sex', 'Fare', 'Embarked', 'FamilySize', 'Initial', 'Age_cat']]\n",
        "\n",
        "colormap = plt.cm.RdBu\n",
        "plt.figure(figsize=(14, 12))\n",
        "plt.title('Person Correlation of Features', y = 1.05, size = 15)\n",
        "sns.heatmap(heatmap_data.astype(float).corr(), linewidths = 0.1, vmax = 1.0, square = True, cmap = colormap, linecolor = 'white', annot = True, annot_kws={\"size\":16})\n",
        "\n",
        "del heatmap_data"
      ],
      "metadata": {
        "trusted": true,
        "execution": {
          "iopub.status.busy": "2024-11-19T10:24:58.859148Z",
          "iopub.execute_input": "2024-11-19T10:24:58.859876Z",
          "iopub.status.idle": "2024-11-19T10:24:59.528203Z",
          "shell.execute_reply.started": "2024-11-19T10:24:58.859828Z",
          "shell.execute_reply": "2024-11-19T10:24:59.526847Z"
        },
        "id": "8U-UTd1Elsu5"
      },
      "outputs": [],
      "execution_count": null
    },
    {
      "cell_type": "code",
      "source": [
        "df_train = pd.get_dummies(df_train, columns = ['Initial'], prefix = 'Initial')\n",
        "df_test = pd.get_dummies(df_test, columns = ['Initial'], prefix = 'Initial')"
      ],
      "metadata": {
        "trusted": true,
        "execution": {
          "iopub.status.busy": "2024-11-19T10:24:59.52993Z",
          "iopub.execute_input": "2024-11-19T10:24:59.530345Z",
          "iopub.status.idle": "2024-11-19T10:24:59.544156Z",
          "shell.execute_reply.started": "2024-11-19T10:24:59.530308Z",
          "shell.execute_reply": "2024-11-19T10:24:59.543069Z"
        },
        "id": "qp-wjtmelsu5"
      },
      "outputs": [],
      "execution_count": null
    },
    {
      "cell_type": "code",
      "source": [
        "df_train.head()"
      ],
      "metadata": {
        "trusted": true,
        "execution": {
          "iopub.status.busy": "2024-11-19T10:24:59.545675Z",
          "iopub.execute_input": "2024-11-19T10:24:59.546148Z",
          "iopub.status.idle": "2024-11-19T10:24:59.564475Z",
          "shell.execute_reply.started": "2024-11-19T10:24:59.546099Z",
          "shell.execute_reply": "2024-11-19T10:24:59.563379Z"
        },
        "id": "4-zpYaa_lsu5"
      },
      "outputs": [],
      "execution_count": null
    },
    {
      "cell_type": "code",
      "source": [
        "df_train = pd.get_dummies(df_train, columns = ['Embarked'], prefix = 'Embarked')\n",
        "df_test = pd.get_dummies(df_test, columns = ['Embarked'], prefix = 'Embarked')"
      ],
      "metadata": {
        "trusted": true,
        "execution": {
          "iopub.status.busy": "2024-11-19T10:24:59.566252Z",
          "iopub.execute_input": "2024-11-19T10:24:59.567005Z",
          "iopub.status.idle": "2024-11-19T10:24:59.582666Z",
          "shell.execute_reply.started": "2024-11-19T10:24:59.566968Z",
          "shell.execute_reply": "2024-11-19T10:24:59.581392Z"
        },
        "id": "DGASB9j2lsu6"
      },
      "outputs": [],
      "execution_count": null
    },
    {
      "cell_type": "code",
      "source": [
        "df_train.drop(['PassengerId', 'Name', 'SibSp', 'Parch', 'Ticket', 'Cabin'], axis = 1, inplace = True)\n",
        "df_test.drop(['PassengerId', 'Name', 'SibSp', 'Parch', 'Ticket', 'Cabin'], axis = 1, inplace = True)"
      ],
      "metadata": {
        "trusted": true,
        "execution": {
          "iopub.status.busy": "2024-11-19T10:24:59.584724Z",
          "iopub.execute_input": "2024-11-19T10:24:59.585452Z",
          "iopub.status.idle": "2024-11-19T10:24:59.596616Z",
          "shell.execute_reply.started": "2024-11-19T10:24:59.585411Z",
          "shell.execute_reply": "2024-11-19T10:24:59.595392Z"
        },
        "id": "anxbPELQlsu6"
      },
      "outputs": [],
      "execution_count": null
    },
    {
      "cell_type": "code",
      "source": [
        "df_train.head()"
      ],
      "metadata": {
        "trusted": true,
        "execution": {
          "iopub.status.busy": "2024-11-19T10:24:59.597944Z",
          "iopub.execute_input": "2024-11-19T10:24:59.598329Z",
          "iopub.status.idle": "2024-11-19T10:24:59.6176Z",
          "shell.execute_reply.started": "2024-11-19T10:24:59.598286Z",
          "shell.execute_reply": "2024-11-19T10:24:59.616393Z"
        },
        "id": "sqto0iI9lsu6"
      },
      "outputs": [],
      "execution_count": null
    },
    {
      "cell_type": "code",
      "source": [
        "df_test.head()"
      ],
      "metadata": {
        "trusted": true,
        "execution": {
          "iopub.status.busy": "2024-11-19T10:24:59.61897Z",
          "iopub.execute_input": "2024-11-19T10:24:59.619365Z",
          "iopub.status.idle": "2024-11-19T10:24:59.641355Z",
          "shell.execute_reply.started": "2024-11-19T10:24:59.619321Z",
          "shell.execute_reply": "2024-11-19T10:24:59.640129Z"
        },
        "id": "rALvxVMxlsu6"
      },
      "outputs": [],
      "execution_count": null
    },
    {
      "cell_type": "code",
      "source": [
        "from sklearn.ensemble import RandomForestClassifier\n",
        "\n",
        "from sklearn import metrics\n",
        "from sklearn.model_selection import train_test_split"
      ],
      "metadata": {
        "trusted": true,
        "execution": {
          "iopub.status.busy": "2024-11-19T10:24:59.643128Z",
          "iopub.execute_input": "2024-11-19T10:24:59.64353Z",
          "iopub.status.idle": "2024-11-19T10:24:59.650637Z",
          "shell.execute_reply.started": "2024-11-19T10:24:59.643495Z",
          "shell.execute_reply": "2024-11-19T10:24:59.649615Z"
        },
        "id": "80t3VA-0lsu6"
      },
      "outputs": [],
      "execution_count": null
    },
    {
      "cell_type": "code",
      "source": [
        "X_train = df_train.drop('Survived', axis = 1).values\n",
        "target_label = df_train['Survived'].values\n",
        "X_test = df_test.values"
      ],
      "metadata": {
        "trusted": true,
        "execution": {
          "iopub.status.busy": "2024-11-19T10:24:59.651939Z",
          "iopub.execute_input": "2024-11-19T10:24:59.652841Z",
          "iopub.status.idle": "2024-11-19T10:24:59.66418Z",
          "shell.execute_reply.started": "2024-11-19T10:24:59.652787Z",
          "shell.execute_reply": "2024-11-19T10:24:59.663115Z"
        },
        "id": "2D5Qipljlsu6"
      },
      "outputs": [],
      "execution_count": null
    },
    {
      "cell_type": "code",
      "source": [
        "X_tr, X_vld, y_tr, y_vld = train_test_split(X_train, target_label, test_size = 0.3, random_state = 2018)"
      ],
      "metadata": {
        "trusted": true,
        "execution": {
          "iopub.status.busy": "2024-11-19T10:24:59.665487Z",
          "iopub.execute_input": "2024-11-19T10:24:59.665835Z",
          "iopub.status.idle": "2024-11-19T10:24:59.677209Z",
          "shell.execute_reply.started": "2024-11-19T10:24:59.665801Z",
          "shell.execute_reply": "2024-11-19T10:24:59.675978Z"
        },
        "id": "vwpXdp64lsu6"
      },
      "outputs": [],
      "execution_count": null
    },
    {
      "cell_type": "code",
      "source": [
        "model = RandomForestClassifier()\n",
        "model.fit(X_tr, y_tr)\n",
        "prediction = model.predict(X_vld)"
      ],
      "metadata": {
        "trusted": true,
        "execution": {
          "iopub.status.busy": "2024-11-19T10:24:59.678679Z",
          "iopub.execute_input": "2024-11-19T10:24:59.679073Z",
          "iopub.status.idle": "2024-11-19T10:24:59.887061Z",
          "shell.execute_reply.started": "2024-11-19T10:24:59.67901Z",
          "shell.execute_reply": "2024-11-19T10:24:59.885884Z"
        },
        "id": "baWj_xLslsu6"
      },
      "outputs": [],
      "execution_count": null
    },
    {
      "cell_type": "code",
      "source": [
        "print('총 {}명 중 {:.2f}% 정확도로 생존을 맞춤'.format(y_vld.shape[0], 100 * metrics.accuracy_score(prediction, y_vld)))"
      ],
      "metadata": {
        "trusted": true,
        "execution": {
          "iopub.status.busy": "2024-11-19T10:24:59.88863Z",
          "iopub.execute_input": "2024-11-19T10:24:59.88911Z",
          "iopub.status.idle": "2024-11-19T10:24:59.897327Z",
          "shell.execute_reply.started": "2024-11-19T10:24:59.889056Z",
          "shell.execute_reply": "2024-11-19T10:24:59.896117Z"
        },
        "id": "gs9oT4Vqlsu6"
      },
      "outputs": [],
      "execution_count": null
    },
    {
      "cell_type": "code",
      "source": [
        "from pandas import Series\n",
        "\n",
        "feature_importance = model.feature_importances_\n",
        "Series_feat_imp = Series(feature_importance, index = df_test.columns)"
      ],
      "metadata": {
        "trusted": true,
        "execution": {
          "iopub.status.busy": "2024-11-19T10:24:59.898788Z",
          "iopub.execute_input": "2024-11-19T10:24:59.899256Z",
          "iopub.status.idle": "2024-11-19T10:24:59.916475Z",
          "shell.execute_reply.started": "2024-11-19T10:24:59.899208Z",
          "shell.execute_reply": "2024-11-19T10:24:59.915348Z"
        },
        "id": "KTCvlKJWlsu7"
      },
      "outputs": [],
      "execution_count": null
    },
    {
      "cell_type": "code",
      "source": [
        "plt.figure(figsize = (8, 8))\n",
        "Series_feat_imp.sort_values(ascending = True).plot.barh()\n",
        "plt.xlabel('Feature importance')\n",
        "plt.ylabel('Feature')\n",
        "plt.show()"
      ],
      "metadata": {
        "trusted": true,
        "execution": {
          "iopub.status.busy": "2024-11-19T10:24:59.918069Z",
          "iopub.execute_input": "2024-11-19T10:24:59.918409Z",
          "iopub.status.idle": "2024-11-19T10:25:00.271298Z",
          "shell.execute_reply.started": "2024-11-19T10:24:59.918376Z",
          "shell.execute_reply": "2024-11-19T10:25:00.27019Z"
        },
        "id": "IzcYd3lzlsu7"
      },
      "outputs": [],
      "execution_count": null
    },
    {
      "cell_type": "code",
      "source": [
        "submission = pd.read_csv('/kaggle/input/titanic/gender_submission.csv')"
      ],
      "metadata": {
        "trusted": true,
        "execution": {
          "iopub.status.busy": "2024-11-19T10:25:00.272681Z",
          "iopub.execute_input": "2024-11-19T10:25:00.273029Z",
          "iopub.status.idle": "2024-11-19T10:25:00.280238Z",
          "shell.execute_reply.started": "2024-11-19T10:25:00.272996Z",
          "shell.execute_reply": "2024-11-19T10:25:00.279134Z"
        },
        "id": "ALep3AaKlsu7"
      },
      "outputs": [],
      "execution_count": null
    },
    {
      "cell_type": "code",
      "source": [
        "submission.head()"
      ],
      "metadata": {
        "trusted": true,
        "execution": {
          "iopub.status.busy": "2024-11-19T10:25:00.281589Z",
          "iopub.execute_input": "2024-11-19T10:25:00.281982Z",
          "iopub.status.idle": "2024-11-19T10:25:00.29219Z",
          "shell.execute_reply.started": "2024-11-19T10:25:00.281937Z",
          "shell.execute_reply": "2024-11-19T10:25:00.291079Z"
        },
        "id": "0O-NnZHKlsu7"
      },
      "outputs": [],
      "execution_count": null
    },
    {
      "cell_type": "code",
      "source": [
        "prediction = model.predict(X_test)\n",
        "submission['Survived'] = prediction"
      ],
      "metadata": {
        "trusted": true,
        "execution": {
          "iopub.status.busy": "2024-11-19T10:27:00.207264Z",
          "iopub.execute_input": "2024-11-19T10:27:00.207789Z",
          "iopub.status.idle": "2024-11-19T10:27:00.227708Z",
          "shell.execute_reply.started": "2024-11-19T10:27:00.207747Z",
          "shell.execute_reply": "2024-11-19T10:27:00.22617Z"
        },
        "id": "S5obG3gblsu7"
      },
      "outputs": [],
      "execution_count": null
    },
    {
      "cell_type": "code",
      "source": [
        "submission.to_csv('./my_first_submission.csv', index = False)"
      ],
      "metadata": {
        "trusted": true,
        "execution": {
          "iopub.status.busy": "2024-11-19T10:27:25.828684Z",
          "iopub.execute_input": "2024-11-19T10:27:25.829175Z",
          "iopub.status.idle": "2024-11-19T10:27:25.837361Z",
          "shell.execute_reply.started": "2024-11-19T10:27:25.829134Z",
          "shell.execute_reply": "2024-11-19T10:27:25.836265Z"
        },
        "id": "EDb5jrBRlsu7"
      },
      "outputs": [],
      "execution_count": null
    }
  ]
}